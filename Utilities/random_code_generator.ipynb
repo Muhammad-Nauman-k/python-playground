{
 "cells": [
  {
   "cell_type": "code",
   "execution_count": null,
   "id": "ded194f1",
   "metadata": {},
   "outputs": [
    {
     "name": "stdout",
     "output_type": "stream",
     "text": [
      "990\n"
     ]
    },
    {
     "data": {
      "text/plain": [
       "990"
      ]
     },
     "execution_count": 4,
     "metadata": {},
     "output_type": "execute_result"
    }
   ],
   "source": [
    "marks = [12,32,5,3,5,76,345,65,34,7,7,989,23,333,12,545,78,9,0,21,343,12,54,343,990]\n",
    "\n",
    "\n",
    "# Method 1\n",
    "largest_value = marks[0]\n",
    "for i in marks:\n",
    "    if i > largest_value:\n",
    "        largest_value = i\n",
    "print(largest_value)\n",
    "\n",
    "# Method 2\n",
    "c = max(marks)\n",
    "c"
   ]
  },
  {
   "cell_type": "code",
   "execution_count": 2,
   "id": "fd816f71",
   "metadata": {},
   "outputs": [
    {
     "name": "stdout",
     "output_type": "stream",
     "text": [
      "['q', 'z', 'm', 'o', '9', '8', '1', '9', '@', '&', '^', '%']\n",
      "&@o%m8^99zq1\n"
     ]
    }
   ],
   "source": [
    "# Random Code Generator\n",
    "\n",
    "import random\n",
    "alphabets = ['a', 'b', 'c', 'd', 'e', 'f', 'g', 'h', 'i', 'j', 'k', 'l', 'm','n', 'o', 'p', 'q', 'r', 's', 't', 'u', 'v', 'w', 'x', 'y', 'z']\n",
    "numbers = ['1','2','3','4','5','6','6','7','8','9']\n",
    "symbols = ['!','@','#','$','%','^','&','*','(',']']\n",
    "\n",
    "length_of_alphabets = len(alphabets) - 1\n",
    "length_of_numbers = len(numbers) - 1\n",
    "length_of_symbols = len(symbols) - 1\n",
    "\n",
    "n_alpha = int(input(\"Enter the number of alphabets: \"))\n",
    "n_num = int(input(\"Enter the number of numbers: \"))\n",
    "n_symbols = int(input(\"Enter the number of symbols: \"))\n",
    "\n",
    "lisst = []\n",
    "\n",
    "for i in range(0, n_alpha):\n",
    "    ran_alphabets = random.randint(0, length_of_alphabets)\n",
    "    temp_alpha = alphabets[ran_alphabets]\n",
    "    lisst.append(temp_alpha)\n",
    "    \n",
    "for i in range(0, n_num):\n",
    "    ran_nums = random.randint(0, length_of_numbers)\n",
    "    temp_num = numbers[ran_nums]\n",
    "    lisst.append(temp_num)\n",
    "\n",
    "for i in range(0, n_symbols):\n",
    "    ran_sym = random.randint(0, length_of_symbols)\n",
    "    temp_sym = symbols[ran_sym]\n",
    "    lisst.append(temp_sym)\n",
    "\n",
    "print(lisst)\n",
    "temp_list = random.shuffle(lisst)\n",
    "Password = ''.join(lisst)\n",
    "print(Password)\n"
   ]
  }
 ],
 "metadata": {
  "kernelspec": {
   "display_name": "Python 3",
   "language": "python",
   "name": "python3"
  },
  "language_info": {
   "codemirror_mode": {
    "name": "ipython",
    "version": 3
   },
   "file_extension": ".py",
   "mimetype": "text/x-python",
   "name": "python",
   "nbconvert_exporter": "python",
   "pygments_lexer": "ipython3",
   "version": "3.12.6"
  }
 },
 "nbformat": 4,
 "nbformat_minor": 5
}
