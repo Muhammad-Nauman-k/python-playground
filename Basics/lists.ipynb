{
    "cells": [
        {
            "cell_type": "code",
            "execution_count": 1,
            "id": "3ec60851",
            "metadata": {},
            "outputs": [
                {
                    "name": "stdout",
                    "output_type": "stream",
                    "text": [
                        "6.492659355666969\n"
                    ]
                }
            ],
            "source": [
                "import random\n",
                "\n",
                "# random_interger =  (1,10)\n",
                "# print(random_interger)\n",
                "\n",
                "  \n",
                "# random_number_0_to_1 = random.random() * 10\n",
                "# print(random_number_0_to_1)\n",
                "\n",
                "random_float = random.uniform(0,10)\n",
                "print(random_float)\n",
                "\n",
                "# random_heads_tails = random.randint(0,1)\n",
                "\n",
                "# if random_heads_tails == 0:\n",
                "#     print(\"tails\")\n",
                "# else:\n",
                "#     print(\"heads\")"
            ]
        },
        {
            "cell_type": "code",
            "execution_count": null,
            "id": "72390fd9",
            "metadata": {},
            "outputs": [
                {
                    "name": "stdout",
                    "output_type": "stream",
                    "text": [
                        "kashmir\n"
                    ]
                }
            ],
            "source": [
                "pakistan = [\"swabi\", \"kashmir\",\"islamabad\",\"peshawar\",\"Lahore\",\"karachi\",\"Quetta\"]\n",
                "print(pakistan[1])\n"
            ]
        },
        {
            "cell_type": "code",
            "execution_count": 12,
            "id": "3a111636",
            "metadata": {},
            "outputs": [
                {
                    "name": "stdout",
                    "output_type": "stream",
                    "text": [
                        "['swabi', 'kashmir', 'islamabad', 'peshawar', 'Lahore', 'karachi', 'Quetta', 'Nomistate', '-----Disputed State-----', 'kabul', 'kandahar', 'chach', 'islamilta']\n"
                    ]
                }
            ],
            "source": [
                "pakistan = [\"swabi\", \"kashmir\",\"islamabad\",\"peshawar\",\"Lahore\",\"karachi\",\"Quetta\"]\n",
                "pakistan.append(\"Nomistate\")\n",
                "Afghanistan = [\"kabul\",\"kandahar\",\"chach\",\"islamilta\"]\n",
                "pakistan.extend(Afghanistan)\n",
                "pakistan.insert(8,\"-----Disputed State-----\")\n",
                "print(pakistan)\n"
            ]
        },
        {
            "cell_type": "code",
            "execution_count": 13,
            "id": "52da759c",
            "metadata": {},
            "outputs": [
                {
                    "name": "stdout",
                    "output_type": "stream",
                    "text": [
                        "['swabi', 'kashmir', 'islamabad', 'peshawar', 'Lahore', 'karachi', 'Quetta', 'Nomistate', 'kabul', 'kandahar', 'chach', 'islamilta']\n"
                    ]
                }
            ],
            "source": [
                "pakistan.remove(\"-----Disputed State-----\")\n",
                "print(pakistan)"
            ]
        },
        {
            "cell_type": "code",
            "execution_count": null,
            "id": "26d7970b",
            "metadata": {},
            "outputs": [
                {
                    "data": {
                        "text/plain": [
                            "7"
                        ]
                    },
                    "execution_count": 14,
                    "metadata": {},
                    "output_type": "execute_result"
                }
            ],
            "source": [
                "pakistan.index(\"Nomistate\") #Tells you on which index is the value located"
            ]
        },
        {
            "cell_type": "code",
            "execution_count": null,
            "id": "102f63c2",
            "metadata": {},
            "outputs": [
                {
                    "data": {
                        "text/plain": [
                            "1"
                        ]
                    },
                    "execution_count": 16,
                    "metadata": {},
                    "output_type": "execute_result"
                }
            ],
            "source": [
                "pakistan.count(\"kabul\")   # Returns number of occurance of value"
            ]
        },
        {
            "cell_type": "code",
            "execution_count": 19,
            "id": "5474cc6c",
            "metadata": {},
            "outputs": [
                {
                    "data": {
                        "text/plain": [
                            "[8, 7, 6, 5, 4, 3, 1]"
                        ]
                    },
                    "execution_count": 19,
                    "metadata": {},
                    "output_type": "execute_result"
                }
            ],
            "source": [
                "locasd = [4,1,5,7,3,6,8]\n",
                "locasd.sort(reverse=True)\n",
                "locasd"
            ]
        },
        {
            "cell_type": "code",
            "execution_count": 20,
            "id": "9592aca9",
            "metadata": {},
            "outputs": [
                {
                    "name": "stdout",
                    "output_type": "stream",
                    "text": [
                        "After append: ['milk', 'bread', 'eggs']\n",
                        "After extend: ['milk', 'bread', 'eggs', 'butter', 'cheese']\n",
                        "After insert: ['milk', 'apples', 'bread', 'eggs', 'butter', 'cheese']\n",
                        "After remove: ['milk', 'apples', 'eggs', 'butter', 'cheese']\n",
                        "Purchased eggs, new list: ['milk', 'apples', 'butter', 'cheese']\n",
                        "Index of cheese: 3\n",
                        "Count of milk: 2\n",
                        "After sort: ['apples', 'butter', 'cheese', 'milk', 'milk']\n",
                        "After reverse: ['milk', 'milk', 'cheese', 'butter', 'apples']\n",
                        "Original: ['milk', 'milk', 'cheese', 'butter', 'apples']\n",
                        "Backup: ['milk', 'milk', 'cheese', 'butter', 'apples', 'yogurt']\n",
                        "After clear: []\n"
                    ]
                }
            ],
            "source": [
                "# Initialize a shopping list\n",
                "shopping_list = ['milk', 'bread']\n",
                "\n",
                "# 1. Append: Add a single item to the list\n",
                "shopping_list.append('eggs')\n",
                "print(\"After append:\", shopping_list)  # Output: ['milk', 'bread', 'eggs']\n",
                "\n",
                "# 2. Extend: Add multiple items from another list\n",
                "more_items = ['butter', 'cheese']\n",
                "shopping_list.extend(more_items)\n",
                "print(\"After extend:\", shopping_list)  # Output: ['milk', 'bread', 'eggs', 'butter', 'cheese']\n",
                "\n",
                "# 3. Insert: Add an item at a specific position\n",
                "shopping_list.insert(1, 'apples')\n",
                "print(\"After insert:\", shopping_list)  # Output: ['milk', 'apples', 'bread', 'eggs', 'butter', 'cheese']\n",
                "\n",
                "# 4. Remove: Remove an item you no longer need\n",
                "shopping_list.remove('bread')\n",
                "print(\"After remove:\", shopping_list)  # Output: ['milk', 'apples', 'eggs', 'butter', 'cheese']\n",
                "\n",
                "# 5. Pop: Remove and retrieve an item for purchase\n",
                "purchased = shopping_list.pop(2)\n",
                "print(f\"Purchased {purchased}, new list:\", shopping_list)  # Output: Purchased eggs, new list: ['milk', 'apples', 'butter', 'cheese']\n",
                "\n",
                "# 6. Index: Find the position of an item\n",
                "index_of_cheese = shopping_list.index('cheese')\n",
                "print(\"Index of cheese:\", index_of_cheese)  # Output: Index of cheese: 3\n",
                "\n",
                "# 7. Count: Check how many times an item appears (after adding duplicates)\n",
                "shopping_list.append('milk')\n",
                "count_of_milk = shopping_list.count('milk')\n",
                "print(\"Count of milk:\", count_of_milk)  # Output: Count of milk: 2\n",
                "\n",
                "# 8. Sort: Sort the list alphabetically\n",
                "shopping_list.sort()\n",
                "print(\"After sort:\", shopping_list)  # Output: ['apples', 'butter', 'cheese', 'milk', 'milk']\n",
                "\n",
                "# 9. Reverse: Reverse the list order\n",
                "shopping_list.reverse()\n",
                "print(\"After reverse:\", shopping_list)  # Output: ['milk', 'milk', 'cheese', 'butter', 'apples']\n",
                "\n",
                "# 10. Copy: Create a backup of the list\n",
                "backup_list = shopping_list.copy()\n",
                "backup_list.append('yogurt')\n",
                "print(\"Original:\", shopping_list)  # Output: ['milk', 'milk', 'cheese', 'butter', 'apples']\n",
                "print(\"Backup:\", backup_list)      # Output: ['milk', 'milk', 'cheese', 'butter', 'apples', 'yogurt']\n",
                "\n",
                "# 11. Clear: Clear the shopping list after shopping\n",
                "shopping_list.clear()\n",
                "print(\"After clear:\", shopping_list)  # Output: []"
            ]
        },
        {
            "cell_type": "code",
            "execution_count": null,
            "id": "ef72f062",
            "metadata": {},
            "outputs": [
                {
                    "name": "stdout",
                    "output_type": "stream",
                    "text": [
                        "Muhammad Nauman Akunzada\n"
                    ]
                }
            ],
            "source": [
                "\n",
                "friends = [\"Muhammad Nauman Akunzada\",\"Usama Afridi\",\"Syed Abdul Basit\",\"Abdullah Hassan Kansi\",\"Saadamin\",\"Syed Ahmad Mujtabah Shah\",\"Omer Johar\",\"Sudais Khan\"]\n",
                "\n",
                "#Option 1\n",
                "\n",
                "# guy = random.choice(friends)\n",
                "# print(f\"{guy} will pay the Bill\")\n",
                "\n",
                "#Option 2\n",
                "\n",
                "n =len(friends) - 1\n",
                "guy_index =random.randint(0,n) \n",
                "print(friends[guy_index]) "
            ]
        }
    ],
    "metadata": {
        "kernelspec": {
            "display_name": "Python 3",
            "language": "python",
            "name": "python3"
        },
        "language_info": {
            "codemirror_mode": {
                "name": "ipython",
                "version": 3
            },
            "file_extension": ".py",
            "mimetype": "text/x-python",
            "name": "python",
            "nbconvert_exporter": "python",
            "pygments_lexer": "ipython3",
            "version": "3.12.6"
        }
    },
    "nbformat": 4,
    "nbformat_minor": 5
}
