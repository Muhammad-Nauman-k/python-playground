{
 "cells": [
  {
   "cell_type": "code",
   "execution_count": 1,
   "id": "5d337e02",
   "metadata": {},
   "outputs": [
    {
     "name": "stdout",
     "output_type": "stream",
     "text": [
      "<turtle.Turtle object at 0x000002133D1F58B0>\n",
      "(50.00,-0.00)\n",
      "300\n"
     ]
    }
   ],
   "source": [
    "# OOP - Object Oriented Programming\n",
    "# ----------------------------------\n",
    "\n",
    "# import turtle\n",
    "# timmy = turtle.Turtle()\n",
    "\n",
    "from turtle import Turtle, Screen\n",
    "\n",
    "# Turtle\n",
    "timmy = Turtle()   # Create a new object: timmy (object), Turtle (class)\n",
    "print(timmy)\n",
    "timmy.shape(\"turtle\")       # Calling method associated with the object (timmy)\n",
    "timmy.color(\"chocolate\")    # Calling method associated with the object (timmy)\n",
    "\n",
    "# Movement of Turtle\n",
    "timmy.forward(50)           # Move forward\n",
    "timmy.circle(100)           # Draw a circle with radius 100\n",
    "timmy.right(100)            # Turn right by 100 degrees\n",
    "timmy.circle(30)            # Draw another smaller circle\n",
    "print(timmy.pos())          # Access object attribute (position) using timmy.pos()\n",
    "\n",
    "# Screen\n",
    "my_screen = Screen()             # Create a new object: my_screen (object), Screen (class)\n",
    "print(my_screen.canvheight)      # Access object attribute: canvas height\n",
    "my_screen.exitonclick()          # Keeps the window open until a click\n"
   ]
  },
  {
   "cell_type": "code",
   "execution_count": 2,
   "id": "2371035c",
   "metadata": {},
   "outputs": [
    {
     "name": "stdout",
     "output_type": "stream",
     "text": [
      "{'base_align_value': 'c', 'City Name': 'c', 'Area': 'c', 'Population': 'c', 'Annual Rainfall': 'c'}\n",
      "+-----------+------+------------+-----------------+\n",
      "| City Name | Area | Population | Annual Rainfall |\n",
      "+-----------+------+------------+-----------------+\n",
      "|   London  | 2256 |   106200   |      600.5      |\n",
      "|  England  | 2004 |   405141   |      300.03     |\n",
      "+-----------+------+------------+-----------------+\n"
     ]
    }
   ],
   "source": [
    "from prettytable import PrettyTable\n",
    "\n",
    "table = PrettyTable()   # Object Created\n",
    "\n",
    "# ------ Row by Row --------------\n",
    "# Good approach if taking inputs from the user\n",
    "table.field_names = [\"City Name\", \"Area\", \"Population\", \"Annual Rainfall\"]\n",
    "table.add_row([\"London\", 2256, 106200, 600.5])\n",
    "table.add_row([\"England\", 2004, 405141, 300.03])\n",
    "\n",
    "# Print default alignment\n",
    "print(table.align)\n",
    "\n",
    "# Change alignment to center\n",
    "table.align = \"c\"\n",
    "print(table)\n",
    "\n",
    "# ----- All Rows at Once -----------\n",
    "# Uncomment this block to add multiple rows at once\n",
    "# table.field_names = [\"City Name\", \"Area\", \"Population\", \"Annual Rainfall\"]\n",
    "# table.add_rows(\n",
    "#     [\n",
    "#        [\"England\", 4104, 515151, 10.6],\n",
    "#        [\"London\", 2112, 404040, 590.4],\n",
    "#        [\"Birmingham\", 1202, 4142155, 344.4]  # Fixed spelling from \"Burmiengem\"\n",
    "#     ]\n",
    "# )\n",
    "# print(table)\n",
    "\n",
    "# -------- Add Column -------------\n",
    "# Uncomment this block to add data column-wise\n",
    "# table.add_column(\"City Name\", [\"Asia\", \"Melbourne\", \"Paris\", \"Kolkata\", \"Murree\"])  # Fixed city spellings\n",
    "# table.add_column(\"Area\", [1234, 4123, 5434, 4124, 53214])\n",
    "# table.add_column(\"Population\", [12412, 14124, 124124, 124214, 124124])\n",
    "# table.add_column(\"Annual Rainfall\", [322.3, 124.5, 164.4, 656.4, 765.4])  # Fixed \"Anuual\" spelling\n",
    "# print(table)\n"
   ]
  }
 ],
 "metadata": {
  "kernelspec": {
   "display_name": "Python 3",
   "language": "python",
   "name": "python3"
  },
  "language_info": {
   "codemirror_mode": {
    "name": "ipython",
    "version": 3
   },
   "file_extension": ".py",
   "mimetype": "text/x-python",
   "name": "python",
   "nbconvert_exporter": "python",
   "pygments_lexer": "ipython3",
   "version": "3.12.6"
  }
 },
 "nbformat": 4,
 "nbformat_minor": 5
}
