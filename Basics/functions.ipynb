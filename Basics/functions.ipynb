{
 "cells": [
  {
   "cell_type": "code",
   "execution_count": null,
   "id": "f4cb5c94",
   "metadata": {},
   "outputs": [
    {
     "name": "stdout",
     "output_type": "stream",
     "text": [
      "You have 1632 weeks remaining till age 90\n"
     ]
    }
   ],
   "source": [
    "age = int(input(\"What's your age: \"))\n",
    "\n",
    "def life_in_weeks(age):\n",
    "    \n",
    "    temp = 90 - age\n",
    "    value = temp * 52   # 365 / 7\n",
    "    print(f\"You have {value} weeks remaining till age 90\")\n",
    "    \n",
    "        \n",
    "life_in_weeks(age)\n"
   ]
  },
  {
   "cell_type": "code",
   "execution_count": null,
   "id": "244f456e",
   "metadata": {},
   "outputs": [
    {
     "name": "stdout",
     "output_type": "stream",
     "text": [
      "You both have 42% true love in between  \n"
     ]
    }
   ],
   "source": [
    "# Love Calculator\n",
    "\n",
    "def calculate_love_score(name1,name2):\n",
    "    count1 = 0\n",
    "    count2 = 0\n",
    "    true = list('true')\n",
    "    love = list('love')\n",
    "    namechecker = list(name1 + name2)\n",
    "    for i in namechecker:\n",
    "        if i in true:\n",
    "            count1 += 1\n",
    "    for j in namechecker:\n",
    "        if  j in love:\n",
    "            count2 += 1 \n",
    "    print(f\"You both have {str(count1) + str(count2)}% true love in between  \")\n",
    "    \n",
    "    \n",
    "    \n",
    "    \n",
    "calculate_love_score(\"kanye west\",\"kim kardashian\")\n",
    "\n"
   ]
  }
 ],
 "metadata": {
  "kernelspec": {
   "display_name": "Python 3",
   "language": "python",
   "name": "python3"
  },
  "language_info": {
   "codemirror_mode": {
    "name": "ipython",
    "version": 3
   },
   "file_extension": ".py",
   "mimetype": "text/x-python",
   "name": "python",
   "nbconvert_exporter": "python",
   "pygments_lexer": "ipython3",
   "version": "3.12.6"
  }
 },
 "nbformat": 4,
 "nbformat_minor": 5
}
