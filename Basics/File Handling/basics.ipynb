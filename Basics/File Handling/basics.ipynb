{
 "cells": [
  {
   "cell_type": "code",
   "execution_count": null,
   "id": "19fa0ddc",
   "metadata": {},
   "outputs": [
    {
     "name": "stdout",
     "output_type": "stream",
     "text": [
      "Hello there\n",
      "Nice to meet you \n"
     ]
    }
   ],
   "source": [
    "\n",
    "# ---------- Read the content of file ----------\n",
    "with open(\"my_file.txt\",mode=\"r\") as file:\n",
    "    contents = file.read()\n",
    "    print(contents)\n",
    "# ---------- Write into file ----------\n",
    "\n",
    "with open(\"my_file.txt\",mode=\"w\") as file:\n",
    "    file.write(\"Hello there\")\n",
    "     \n",
    "# ---------- Append into file ----------\n",
    "\n",
    "with open(\"my_file.txt\",mode=\"a\") as file:\n",
    "    file.write(\"\\nNice to meet you \")\n",
    "\n"
   ]
  },
  {
   "cell_type": "code",
   "execution_count": null,
   "id": "9e4aca77",
   "metadata": {},
   "outputs": [],
   "source": [
    "\n",
    "temp = \"[name]\"\n",
    "with open(r\".\\\\Input\\\\Names\\\\invited_names.txt\",mode=\"r\") as file:\n",
    "    names = file.readlines()\n",
    "with open(r\".\\\\Input\\\\Letters\\\\starting_letter.txt\", mode=\"r\") as letter:\n",
    "    letter_contents = letter.read()\n",
    "    \n",
    "    for name in names:\n",
    "        stripped_name = name.strip()   #Remove spaces\n",
    "        new_letter = letter_contents.replace(temp,stripped_name)\n",
    "        \n",
    "        with open(rf\".\\\\Output\\\\ReadyToSend\\\\letter_for_{stripped_name}.docx\",mode=\"w\") as completed_letter:\n",
    "            completed_letter.write(new_letter)\n",
    "            "
   ]
  },
  {
   "cell_type": "code",
   "execution_count": null,
   "id": "cb795eed",
   "metadata": {},
   "outputs": [],
   "source": [
    "import csv\n",
    "\n",
    "with open(\"weather_data.csv\",mode=\"r\") as weather_file:\n",
    "    rows =  csv.reader(weather_file)\n",
    "    listtt = []\n",
    "    for row in rows:\n",
    "        if row[1] == 'temp':\n",
    "            pass\n",
    "        else:\n",
    "            listtt.append(int(row[1]))\n",
    "    print(listtt)"
   ]
  }
 ],
 "metadata": {
  "kernelspec": {
   "display_name": "Python 3",
   "language": "python",
   "name": "python3"
  },
  "language_info": {
   "codemirror_mode": {
    "name": "ipython",
    "version": 3
   },
   "file_extension": ".py",
   "mimetype": "text/x-python",
   "name": "python",
   "nbconvert_exporter": "python",
   "pygments_lexer": "ipython3",
   "version": "3.12.6"
  }
 },
 "nbformat": 4,
 "nbformat_minor": 5
}
