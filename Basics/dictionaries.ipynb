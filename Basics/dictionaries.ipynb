{
 "cells": [
  {
   "cell_type": "code",
   "execution_count": 1,
   "id": "4767387a",
   "metadata": {},
   "outputs": [
    {
     "name": "stdout",
     "output_type": "stream",
     "text": [
      "it's a function we are calling\n",
      "{'bug': \"it's a bug ok\", 'function': \"it's a function we are calling\", 'loop': \"it's a loop that call again\", 'pakistan': 'A nation'}\n",
      "bug\n",
      "it's a bug ok\n",
      "function\n",
      "it's a function we are calling\n",
      "loop\n",
      "it's a loop that call again\n",
      "pakistan\n",
      "A nation\n"
     ]
    }
   ],
   "source": [
    "dictionary = {\n",
    "    \"bug\": \"it's a bug ok\",\n",
    "    \"function\": \"it's a function we are calling\",\n",
    "    \"loop\": \"it's a loop that call again\"\n",
    "    }\n",
    "\n",
    "print(dictionary[\"function\"])\n",
    "dictionary[\"pakistan\"] = \"A nation\"\n",
    "print(dictionary)\n",
    "\n",
    "for key in dictionary:\n",
    "    print(key)\n",
    "    print(dictionary[key])\n",
    "\n"
   ]
  },
  {
   "cell_type": "code",
   "execution_count": 9,
   "id": "af3ca8df",
   "metadata": {},
   "outputs": [
    {
     "name": "stdout",
     "output_type": "stream",
     "text": [
      "{'Harry': 'Exceeds Expectations', 'Ron': 'Acceptable', 'Hermione': 'Outstanding', 'Draco': 'Acceptable', 'Neville': 'Fail'}\n"
     ]
    }
   ],
   "source": [
    "student_scores = {\n",
    "    'Harry': 88,\n",
    "    'Ron': 78,\n",
    "    'Hermione': 95,\n",
    "    'Draco': 75,\n",
    "    'Neville': 60\n",
    "}\n",
    "\n",
    "student_grades = {}\n",
    "\n",
    "for key in student_scores:\n",
    "    if 90 < student_scores[key] <= 100:\n",
    "        student_grades[key] = \"Outstanding\"\n",
    "    elif 80 < student_scores[key] <= 90:\n",
    "        student_grades[key] = \"Exceeds Expectations\"\n",
    "    elif 70 < student_scores[key] <= 80:\n",
    "        student_grades[key] = \"Acceptable\"\n",
    "    else:\n",
    "        student_grades[key] = \"Fail\"\n",
    "\n",
    "print(student_grades)"
   ]
  },
  {
   "cell_type": "code",
   "execution_count": 3,
   "id": "029ba37f",
   "metadata": {},
   "outputs": [
    {
     "name": "stdout",
     "output_type": "stream",
     "text": [
      "banu\n"
     ]
    }
   ],
   "source": [
    "cities = {\n",
    "    \"Pakistan\" : [\"Peshawar\",[\"banu\",\"Mardan\"],\"Islamabad\",\"Karachi\",\"Lahore\",\"Gilgit\",\"Azad Kashmir\"],\n",
    "    \"India\" : [\"Delhi\",\"UP\",\"Mumbai\",\"Haryana\",\"Bihar\",\"Kashmir\"]\n",
    "}\n",
    "print(cities[\"Pakistan\"][1][0])"
   ]
  },
  {
   "cell_type": "code",
   "execution_count": 2,
   "id": "d2c60239",
   "metadata": {},
   "outputs": [
    {
     "name": "stdout",
     "output_type": "stream",
     "text": [
      "banu\n",
      "12\n"
     ]
    }
   ],
   "source": [
    "cities = {\n",
    "    \"Pakistan\" : { \"cities\" : [\"Peshawar\",[\"banu\",\"Mardan\"],\"Islamabad\",\"Karachi\",\"Lahore\",\"Gilgit\",\"Azad Kashmir\"],\n",
    "                  \"Visited_times\" : 12 },\n",
    "    \"India\" : { \"cities\" : [\"Delhi\",\"UP\",\"Mumbai\",\"Haryana\",\"Bihar\",\"Kashmir\"],\n",
    "               \"Visited_times\" : 0 }\n",
    "}\n",
    "print(cities[\"Pakistan\"][\"cities\"][1][0])\n",
    "print(cities[\"Pakistan\"][\"Visited_times\"])"
   ]
  },
  {
   "cell_type": "code",
   "execution_count": 41,
   "id": "34ccd8b8",
   "metadata": {},
   "outputs": [
    {
     "name": "stdout",
     "output_type": "stream",
     "text": [
      "Steak\n"
     ]
    }
   ],
   "source": [
    "order = {\n",
    "    \"starter\": {1: \"Salad\", 2: \"Soup\"},\n",
    "    \"main\": {1: [\"Burger\", \"Fries\"], 2: [\"Steak\"]},\n",
    "    \"dessert\": {1: [\"Ice Cream\"], 2: []},\n",
    "}\n",
    "print(order[\"main\"][2][0])"
   ]
  },
  {
   "cell_type": "markdown",
   "id": "8d88cc11",
   "metadata": {},
   "source": [
    "Dictionary Comprehension\n"
   ]
  },
  {
   "cell_type": "code",
   "execution_count": null,
   "id": "e41cc954",
   "metadata": {},
   "outputs": [
    {
     "data": {
      "text/plain": [
       "{'John': 24, 'Berry': 60, 'Lisa': 61, 'Sarah': 48, 'Emanuel': 84}"
      ]
     },
     "execution_count": 1,
     "metadata": {},
     "output_type": "execute_result"
    }
   ],
   "source": [
    "import random\n",
    "names = [\"John\",\"Berry\",\"Lisa\",\"Sarah\",\"Emanuel\"]\n",
    "new_dict = {name:random.randint(1,100) for name in names} # Dictionary Comprehension\n",
    "new_dict"
   ]
  },
  {
   "cell_type": "code",
   "execution_count": null,
   "id": "f1fd8161",
   "metadata": {},
   "outputs": [
    {
     "data": {
      "text/plain": [
       "{'Berry': 'Passed', 'Lisa': 'Passed', 'Emanuel': 'Passed'}"
      ]
     },
     "execution_count": 2,
     "metadata": {},
     "output_type": "execute_result"
    }
   ],
   "source": [
    "passed_students = {student:\"Passed\" for (student,score) in new_dict.items() if score >= 50}\n",
    "passed_students"
   ]
  },
  {
   "cell_type": "code",
   "execution_count": 5,
   "id": "91b8e843",
   "metadata": {},
   "outputs": [
    {
     "data": {
      "text/plain": [
       "{'What': 4,\n",
       " 'is': 2,\n",
       " 'the': 3,\n",
       " 'Airspeed': 8,\n",
       " 'Velocity': 8,\n",
       " 'of': 2,\n",
       " 'an': 2,\n",
       " 'Unladen': 7,\n",
       " 'Swallow': 7}"
      ]
     },
     "execution_count": 5,
     "metadata": {},
     "output_type": "execute_result"
    }
   ],
   "source": [
    "sentence = \"What is the Airspeed Velocity of an Unladen Swallow \"\n",
    "result = {i:len(i) for i in sentence.split() }\n",
    "result"
   ]
  },
  {
   "cell_type": "code",
   "execution_count": 6,
   "id": "6d40481c",
   "metadata": {},
   "outputs": [
    {
     "data": {
      "text/plain": [
       "{'Monday': 53.6,\n",
       " 'Tuesday': 57.2,\n",
       " 'Wednesday': 59.0,\n",
       " 'Thursday': 57.2,\n",
       " 'Friday': 69.8,\n",
       " 'Saturday': 71.6,\n",
       " 'Sunday': 75.2}"
      ]
     },
     "execution_count": 6,
     "metadata": {},
     "output_type": "execute_result"
    }
   ],
   "source": [
    "weather_c = {\"Monday\": 12, \"Tuesday\": 14, \"Wednesday\": 15, \"Thursday\": 14, \"Friday\": 21, \"Saturday\": 22, \"Sunday\": 24}\n",
    "weather_f = {key:value * 9/5 + 32 for (key,value) in weather_c.items()}\n",
    "weather_f"
   ]
  }
 ],
 "metadata": {
  "kernelspec": {
   "display_name": "Python 3",
   "language": "python",
   "name": "python3"
  },
  "language_info": {
   "codemirror_mode": {
    "name": "ipython",
    "version": 3
   },
   "file_extension": ".py",
   "mimetype": "text/x-python",
   "name": "python",
   "nbconvert_exporter": "python",
   "pygments_lexer": "ipython3",
   "version": "3.12.6"
  }
 },
 "nbformat": 4,
 "nbformat_minor": 5
}
